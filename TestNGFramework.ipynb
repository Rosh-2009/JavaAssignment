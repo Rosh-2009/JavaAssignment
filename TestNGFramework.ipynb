{
  "nbformat": 4,
  "nbformat_minor": 0,
  "metadata": {
    "colab": {
      "provenance": [],
      "authorship_tag": "ABX9TyPd+8hoOF7YErUk/6vNPqHp",
      "include_colab_link": true
    },
    "kernelspec": {
      "name": "python3",
      "display_name": "Python 3"
    },
    "language_info": {
      "name": "python"
    }
  },
  "cells": [
    {
      "cell_type": "markdown",
      "metadata": {
        "id": "view-in-github",
        "colab_type": "text"
      },
      "source": [
        "<a href=\"https://colab.research.google.com/github/Rosh-2009/JavaAssignment/blob/main/TestNGFramework.ipynb\" target=\"_parent\"><img src=\"https://colab.research.google.com/assets/colab-badge.svg\" alt=\"Open In Colab\"/></a>"
      ]
    },
    {
      "cell_type": "markdown",
      "source": [],
      "metadata": {
        "id": "Zvz0-KxnxW5c"
      }
    },
    {
      "cell_type": "markdown",
      "source": [
        "# TestNG file\n"
      ],
      "metadata": {
        "id": "Rm0dMdyIxYvQ"
      }
    },
    {
      "cell_type": "markdown",
      "source": [
        "## Notes for reference"
      ],
      "metadata": {
        "id": "9tuuDNmP1M68"
      }
    },
    {
      "cell_type": "code",
      "source": [
        "include will run only that particular method and exclude will ignore that particular method\n",
        "eg:\n",
        "<class name=\"may19.Test_004\">\n",
        "                    <methods>\n",
        "                        <exclude name=\"Facebook_Testing\"/>\n",
        "\n",
        "                             OR\n",
        "\n",
        "                        <include name=\"Facebook_Testing\"/>\n",
        "                    </methods>\n",
        "            </class>\n"
      ],
      "metadata": {
        "id": "reFYtwI41QNa"
      },
      "execution_count": null,
      "outputs": []
    },
    {
      "cell_type": "markdown",
      "source": [
        "## TestNg.xml"
      ],
      "metadata": {
        "id": "g4Qm9wYgz5a-"
      }
    },
    {
      "cell_type": "code",
      "source": [
        "<!DOCTYPE suite SYSTEM \"https://testng.org/testng-1.0.dtd\" >\n",
        "\n",
        "<suite name=\"Suite1\" verbose=\"1\" >\n",
        "    <test name=\"GoogleSearch\" >\n",
        "        <parameter name=\"Num\" value=\"200\"></parameter>\n",
        "        <parameter name=\"UserID\" value=\"abcd\"></parameter>\n",
        "        <parameter name=\"Password\" value=\"12345\"></parameter>\n",
        "        <parameter name=\"Name\" value=\"Roshni\"></parameter>\n",
        "        <parameter name=\"Pwd\" value=\"12345\"></parameter>\n",
        "        <parameter name=\"StatusCode\" value=\"200\"></parameter>\n",
        "        <classes>\n",
        "            <class name=\"may19.Test_001\" />\n",
        "            <class name=\"may19.Test_002\" />\n",
        "            <class name=\"may19.Support\" />\n",
        "            <class name=\"may19.Test_003\" />\n",
        "            <class name=\"may19.Test_004\" />\n",
        "        </classes>\n",
        "    </test>\n",
        "    </suite>\n"
      ],
      "metadata": {
        "id": "o1rd6VuVxcel"
      },
      "execution_count": null,
      "outputs": []
    },
    {
      "cell_type": "markdown",
      "source": [
        "## smoke.xml"
      ],
      "metadata": {
        "id": "8v1tlk6Lz9GV"
      }
    },
    {
      "cell_type": "code",
      "source": [
        "<!DOCTYPE suite SYSTEM \"https://testng.org/testng-1.0.dtd\" >\n",
        "\n",
        "<suite name=\"Suite1\" verbose=\"1\" >\n",
        "    <test name=\"GoogleSearch\" >\n",
        "        <parameter name=\"Name\" value=\"Roshni\"></parameter>\n",
        "        <parameter name=\"Pwd\" value=\"12345\"></parameter>\n",
        "        <parameter name=\"StatusCode\" value=\"200\"></parameter>\n",
        "        <classes>\n",
        "            <class name=\"may19.Test_004\">\n",
        "                    <methods>\n",
        "                        <exclude name=\"Facebook_Testing\"/>\n",
        "                    </methods>\n",
        "            </class>\n",
        "        </classes>\n",
        "    </test>\n",
        "</suite>\n"
      ],
      "metadata": {
        "id": "gKr4gqfTz_dX"
      },
      "execution_count": null,
      "outputs": []
    },
    {
      "cell_type": "markdown",
      "source": [
        "## TestNG_parallel_methods.xml"
      ],
      "metadata": {
        "id": "GJNh3vWr0Api"
      }
    },
    {
      "cell_type": "code",
      "source": [
        "<!DOCTYPE suite SYSTEM \"https://testng.org/testng-1.0.dtd\" >\n",
        "\n",
        "<suite name=\"Suite1\" parallel=\"tests\" thread-count=\"3\">\n",
        "    <test name=\"GoogleSearch\" >\n",
        "        <classes>\n",
        "            <class name=\"parallel_Execution.PT_001\" />\n",
        "        </classes>\n",
        "    </test>\n",
        "\n",
        "    <test name=\"FacebookSearch\" >\n",
        "        <classes>\n",
        "            <class name=\"parallel_Execution.PT_002\" />\n",
        "        </classes>\n",
        "    </test>\n",
        "\n",
        "    <test name=\"TwitterSearch\" >\n",
        "        <classes>\n",
        "           <class name=\"parallel_Execution.PT_003\" />\n",
        "        </classes>\n",
        "    </test>\n",
        "\n",
        "</suite>\n"
      ],
      "metadata": {
        "id": "avbU_ooB0KKA"
      },
      "execution_count": null,
      "outputs": []
    },
    {
      "cell_type": "markdown",
      "source": [
        "## may23.xml"
      ],
      "metadata": {
        "id": "zPkECQqg1CUi"
      }
    },
    {
      "cell_type": "code",
      "source": [
        "<!DOCTYPE suite SYSTEM \"https://testng.org/testng-1.0.dtd\" >\n",
        "\n",
        "<suite name=\"Suite1\" verbose=\"1\" >\n",
        "    <test name=\"GoogleSearch\" >\n",
        "       <!-- <groups>\n",
        "            <run>\n",
        "                <include name=\"SmokeTest\"/>\n",
        "\n",
        "            </run>\n",
        "        </groups> -->\n",
        "        <classes>\n",
        "            <class name=\"may19.Test_005\"/>\n",
        "        </classes>\n",
        "    </test>\n",
        "</suite>\n"
      ],
      "metadata": {
        "id": "xCGSdTCr1E1t"
      },
      "execution_count": null,
      "outputs": []
    },
    {
      "cell_type": "markdown",
      "source": [],
      "metadata": {
        "id": "UfhQZCTj0AjJ"
      }
    },
    {
      "cell_type": "markdown",
      "source": [
        "# pom.xml File"
      ],
      "metadata": {
        "id": "mwUBJdMyxe6I"
      }
    },
    {
      "cell_type": "code",
      "source": [
        "<?xml version=\"1.0\" encoding=\"UTF-8\"?>\n",
        "<project xmlns=\"http://maven.apache.org/POM/4.0.0\"\n",
        "         xmlns:xsi=\"http://www.w3.org/2001/XMLSchema-instance\"\n",
        "         xsi:schemaLocation=\"http://maven.apache.org/POM/4.0.0 http://maven.apache.org/xsd/maven-4.0.0.xsd\">\n",
        "    <modelVersion>4.0.0</modelVersion>\n",
        "\n",
        "    <groupId>org.example</groupId>\n",
        "    <artifactId>TestNG</artifactId>\n",
        "    <version>1.0-SNAPSHOT</version>\n",
        "\n",
        "    <properties>\n",
        "        <maven.compiler.source>17</maven.compiler.source>\n",
        "        <maven.compiler.target>17</maven.compiler.target>\n",
        "        <project.build.sourceEncoding>UTF-8</project.build.sourceEncoding>\n",
        "    </properties>\n",
        "\n",
        "    <dependencies>\n",
        "\n",
        "        <!-- https://mvnrepository.com/artifact/org.testng/testng -->\n",
        "        <dependency>\n",
        "            <groupId>org.testng</groupId>\n",
        "            <artifactId>testng</artifactId>\n",
        "            <version>7.7.0</version>\n",
        "            <scope>test</scope>\n",
        "        </dependency>\n",
        "\n",
        "        <!-- https://mvnrepository.com/artifact/org.testng/reportng -->\n",
        "        <dependency>\n",
        "            <groupId>org.testng</groupId>\n",
        "            <artifactId>reportng</artifactId>\n",
        "            <version>1.2.2</version>\n",
        "        </dependency>\n",
        "    </dependencies>\n",
        "\n",
        "    <build>\n",
        "        <plugins>\n",
        "            <plugin>\n",
        "                <!-- https://mvnrepository.com/artifact/org.apache.maven.plugins/maven-surefire-plugin -->\n",
        "                    <groupId>org.apache.maven.plugins</groupId>\n",
        "                    <artifactId>maven-surefire-plugin</artifactId>\n",
        "                    <version>3.0.0-M4</version>\n",
        "                    <configuration>\n",
        "                        <suiteXmlFiles>\n",
        "                            <suiteXmlFile>\n",
        "                               TestNG_Files\\TestNG_parallel_methods.xml\n",
        "                            </suiteXmlFile>\n",
        "                            <suiteXmlFile>\n",
        "                                TestNG_Files\\testNG.xml\n",
        "                            </suiteXmlFile>\n",
        "                        </suiteXmlFiles>\n",
        "                    </configuration>\n",
        "            </plugin>\n",
        "        </plugins>\n",
        "    </build>\n",
        "</project>"
      ],
      "metadata": {
        "id": "3fH_kq6Zxk_W"
      },
      "execution_count": null,
      "outputs": []
    },
    {
      "cell_type": "markdown",
      "source": [
        "# Properties file"
      ],
      "metadata": {
        "id": "fu-iu1SUxrzi"
      }
    },
    {
      "cell_type": "code",
      "source": [
        "url = https://www.google.com\n",
        "username = TestUser001\n",
        "password = roshni\n",
        "mobNum = 9876543021\n",
        "email = abcd@gmail.com"
      ],
      "metadata": {
        "id": "8C1FxfslxyUg"
      },
      "execution_count": null,
      "outputs": []
    },
    {
      "cell_type": "markdown",
      "source": [
        "# Reusable File for Properties"
      ],
      "metadata": {
        "id": "uZaJfEncxzap"
      }
    },
    {
      "cell_type": "code",
      "source": [
        "package reusables;\n",
        "\n",
        "import java.util.*;\n",
        "import java.io.*;\n",
        "\n",
        "public class Reusables {\n",
        "\n",
        "    public String read_PropertiesFile(String key){\n",
        "        String value = null;\n",
        "\n",
        "        try{\n",
        "            FileReader reader = new FileReader(System.getProperty(\"user.dir\")+\"\\\\testdata.properties\");\n",
        "            Properties prop = new Properties();\n",
        "            prop.load(reader);\n",
        "            value=prop.getProperty(key);\n",
        "        }\n",
        "        catch(Exception e){\n",
        "        }\n",
        "        return value;\n",
        "    }\n",
        "}\n"
      ],
      "metadata": {
        "id": "cxkhOUYqyIfi"
      },
      "execution_count": null,
      "outputs": []
    },
    {
      "cell_type": "markdown",
      "source": [
        "# Parallel Execution Test case"
      ],
      "metadata": {
        "id": "DT-xtQA1y0v-"
      }
    },
    {
      "cell_type": "markdown",
      "source": [
        "## PT_001"
      ],
      "metadata": {
        "id": "NVAcTp0dzMZx"
      }
    },
    {
      "cell_type": "code",
      "source": [
        "package parallel_Execution;\n",
        "\n",
        "\n",
        "import org.testng.annotations.Test;\n",
        "\n",
        "public class PT_001 {\n",
        "    @Test\n",
        "    public void google_PT_001_01(){\n",
        "        System.out.println(\"google_PT_001_01\");\n",
        "    }\n",
        "    @Test\n",
        "    public void google_PT_001_02(){\n",
        "        System.out.println(\"google_PT_001_02\");\n",
        "    }\n",
        "    @Test\n",
        "    public void google_PT_001_03(){\n",
        "        System.out.println(\"google_PT_001_03\");\n",
        "    }\n",
        "    @Test\n",
        "    public void google_PT_001_04(){\n",
        "        System.out.println(\"google_PT_001_04\");\n",
        "    }\n",
        "    @Test\n",
        "    public void google_PT_001_05(){\n",
        "        System.out.println(\"google_PT_001_05\");\n",
        "    }\n",
        "    @Test\n",
        "    public void google_PT_001_06(){\n",
        "        System.out.println(\"google_PT_001_06\");\n",
        "    }\n",
        "    @Test\n",
        "    public void google_PT_001_07(){\n",
        "        System.out.println(\"google_PT_001_07\");\n",
        "    }\n",
        "    @Test\n",
        "    public void google_PT_001_08(){\n",
        "        System.out.println(\"google_PT_001_08\");\n",
        "    }\n",
        "    @Test\n",
        "    public void google_PT_001_09(){\n",
        "        System.out.println(\"google_PT_001_09\");\n",
        "    }\n",
        "    @Test\n",
        "    public void google_PT_001_10(){\n",
        "        System.out.println(\"google_PT_001_10\");\n",
        "    }\n",
        "}\n"
      ],
      "metadata": {
        "id": "bSDIl_bSy4Vu"
      },
      "execution_count": null,
      "outputs": []
    },
    {
      "cell_type": "markdown",
      "source": [
        "## PT_002"
      ],
      "metadata": {
        "id": "x5ElstiJzQtC"
      }
    },
    {
      "cell_type": "code",
      "source": [
        "package parallel_Execution;\n",
        "\n",
        "import org.testng.annotations.Test;\n",
        "\n",
        "public class PT_002 {\n",
        "    @Test\n",
        "    public void Facebook_Pt_002_01(){\n",
        "        System.out.println(\"Facebook_Pt_002_01\");\n",
        "    }\n",
        "    @Test\n",
        "    public void Facebook_Pt_002_02(){\n",
        "        System.out.println(\"Facebook_Pt_002_02\");\n",
        "    }\n",
        "    @Test\n",
        "    public void Facebook_Pt_002_03(){\n",
        "        System.out.println(\"Facebook_Pt_002_03\");\n",
        "    }\n",
        "    @Test\n",
        "    public void Facebook_Pt_002_04(){\n",
        "        System.out.println(\"Facebook_Pt_002_04\");\n",
        "    }\n",
        "    @Test\n",
        "    public void Facebook_Pt_002_05(){\n",
        "        System.out.println(\"Facebook_Pt_002_05\");\n",
        "    }\n",
        "    @Test\n",
        "    public void Facebook_Pt_002_06(){\n",
        "        System.out.println(\"Facebook_Pt_002_06\");\n",
        "    }\n",
        "    @Test\n",
        "    public void Facebook_Pt_002_07(){\n",
        "        System.out.println(\"Facebook_Pt_002_07\");\n",
        "    }\n",
        "    @Test\n",
        "    public void Facebook_Pt_002_08(){\n",
        "        System.out.println(\"Facebook_Pt_002_08\");\n",
        "    }\n",
        "    @Test\n",
        "    public void Facebook_Pt_002_09(){\n",
        "        System.out.println(\"Facebook_Pt_002_09\");\n",
        "    }\n",
        "    @Test\n",
        "    public void Facebook_Pt_002_10(){\n",
        "        System.out.println(\"Facebook_Pt_002_10\");\n",
        "    }\n",
        "}\n"
      ],
      "metadata": {
        "id": "fYJN_56OzSy9"
      },
      "execution_count": null,
      "outputs": []
    },
    {
      "cell_type": "markdown",
      "source": [
        "## PT_003"
      ],
      "metadata": {
        "id": "y2fXGfELzeXH"
      }
    },
    {
      "cell_type": "code",
      "source": [
        "package parallel_Execution;\n",
        "\n",
        "import org.testng.annotations.Test;\n",
        "\n",
        "public class PT_003 {\n",
        "    @Test\n",
        "    public void Twitter_Pt_003_01(){\n",
        "        System.out.println(\"Twitter_Pt_003_01\");\n",
        "    }\n",
        "    @Test\n",
        "    public void Twitter_Pt_003_02(){\n",
        "        System.out.println(\"Twitter_Pt_003_02\");\n",
        "    }\n",
        "    @Test\n",
        "    public void Twitter_Pt_003_03(){\n",
        "        System.out.println(\"Twitter_Pt_003_03\");\n",
        "    }\n",
        "    @Test\n",
        "    public void Twitter_Pt_003_04(){\n",
        "        System.out.println(\"Twitter_Pt_003_04\");\n",
        "    }\n",
        "    @Test\n",
        "    public void Twitter_Pt_003_05(){\n",
        "        System.out.println(\"Twitter_Pt_003_05\");\n",
        "    }\n",
        "    @Test\n",
        "    public void Twitter_Pt_003_06(){\n",
        "        System.out.println(\"Twitter_Pt_003_06\");\n",
        "    }\n",
        "    @Test\n",
        "    public void Twitter_Pt_003_07(){\n",
        "        System.out.println(\"Twitter_Pt_003_07\");\n",
        "    }\n",
        "    @Test\n",
        "    public void Twitter_Pt_003_08(){\n",
        "        System.out.println(\"Twitter_Pt_003_08\");\n",
        "    }\n",
        "    @Test\n",
        "    public void Twitter_Pt_003_09(){\n",
        "        System.out.println(\"Twitter_Pt_003_09\");\n",
        "    }\n",
        "    @Test\n",
        "    public void Twitter_Pt_003_10(){\n",
        "        System.out.println(\"Twitter_Pt_003_10\");\n",
        "    }\n",
        "}\n"
      ],
      "metadata": {
        "id": "0ppiy3w9zgu_"
      },
      "execution_count": null,
      "outputs": []
    },
    {
      "cell_type": "markdown",
      "source": [
        "# Test Cases"
      ],
      "metadata": {
        "id": "55tj4r-M0SJN"
      }
    },
    {
      "cell_type": "markdown",
      "source": [
        "## Support.java"
      ],
      "metadata": {
        "id": "sSMgiIXR0XW7"
      }
    },
    {
      "cell_type": "code",
      "source": [
        "package may19;\n",
        "\n",
        "import org.testng.annotations.AfterSuite;\n",
        "import org.testng.annotations.BeforeSuite;\n",
        "\n",
        "public class Support {\n",
        "    @BeforeSuite\n",
        "    public void do_Setup_before_Execution(){\n",
        "        System.out.println(\"Do database connection\");\n",
        "    }\n",
        "\n",
        "    @AfterSuite\n",
        "    public void complete_Setup_after_Execution(){\n",
        "        System.out.println(\"Disconnect the database\");\n",
        "    }\n",
        "\n",
        "\n",
        "\n",
        "}\n"
      ],
      "metadata": {
        "id": "_aPLhM_G0cOs"
      },
      "execution_count": null,
      "outputs": []
    },
    {
      "cell_type": "markdown",
      "source": [
        "## Test_001"
      ],
      "metadata": {
        "id": "natWgENL0e23"
      }
    },
    {
      "cell_type": "code",
      "source": [
        "package may19;\n",
        "\n",
        "import com.beust.jcommander.Parameter;\n",
        "import org.testng.annotations.*;\n",
        "\n",
        "public class Test_001 {\n",
        "\n",
        "    @BeforeTest\n",
        "    public void do_setUpfor_TC001(){\n",
        "        System.out.println(\"Starting API server for TC001\");\n",
        "    }\n",
        "\n",
        "    @Test(priority = 1)\n",
        "    public void testing_googlePage(){\n",
        "        System.out.println(\"I am executing my first test scripts\");\n",
        "    }\n",
        "\n",
        "    @Test(priority = 2)\n",
        "    @Parameters({\"Num\"})\n",
        "    public void testing_faceBookPage(String Num){\n",
        "\n",
        "        System.out.println(100+100+Integer.valueOf(Num));\n",
        "    }\n",
        "\n",
        "    @AfterTest\n",
        "    public void closing_allServers_forTC001(){\n",
        "        System.out.println(\"Closing all servers for TC001\");\n",
        "    }\n",
        "}\n"
      ],
      "metadata": {
        "id": "XPs7Nc2V0hgn"
      },
      "execution_count": null,
      "outputs": []
    },
    {
      "cell_type": "markdown",
      "source": [
        "## Test_002"
      ],
      "metadata": {
        "id": "LF_c2C-C0k58"
      }
    },
    {
      "cell_type": "code",
      "source": [
        "package may19;\n",
        "\n",
        "import org.testng.annotations.AfterClass;\n",
        "import org.testng.annotations.BeforeClass;\n",
        "import org.testng.annotations.Test;\n",
        "\n",
        "public class Test_002 {\n",
        "\n",
        "    @BeforeClass\n",
        "    public void do_setUpfor_TC002(){\n",
        "        System.out.println(\"Starting API server for TC002\");\n",
        "    }\n",
        "\n",
        "    @Test(priority = 1)\n",
        "    public void testing_FireFoxPage (){\n",
        "\n",
        "        System.out.println(\"I am executing in FireFox\");\n",
        "    }\n",
        "    @Test(priority = 2)\n",
        "    public void testing_EdgePage (){\n",
        "\n",
        "        System.out.println(\"I am executing in Edge\");\n",
        "    }\n",
        "    @Test(priority = 3)\n",
        "    public void testing_AmazonPage (){\n",
        "\n",
        "        System.out.println(\"I am executing in Amazon\");\n",
        "    }\n",
        "\n",
        "    @AfterClass\n",
        "    public void closing_allServers_forTC002(){\n",
        "        System.out.println(\"Closing all servers for TC002\");\n",
        "    }\n",
        "}\n"
      ],
      "metadata": {
        "id": "4136oI250nG7"
      },
      "execution_count": null,
      "outputs": []
    },
    {
      "cell_type": "markdown",
      "source": [
        "## Test_003"
      ],
      "metadata": {
        "id": "1DXGAX7k0qax"
      }
    },
    {
      "cell_type": "code",
      "source": [
        "package may19;\n",
        "\n",
        "import org.testng.annotations.Parameters;\n",
        "import org.testng.annotations.Test;\n",
        "\n",
        "public class Test_003 {\n",
        "\n",
        "    @Test\n",
        "    @Parameters({\"UserID\",\"Password\"})\n",
        "    public void enter_UserID(String UserID, String Password){\n",
        "        System.out.println(\"Enter User ID :\"+UserID);\n",
        "        System.out.println(\"Enter Password :\"+Password);\n",
        "    }\n",
        "}"
      ],
      "metadata": {
        "id": "cmFiPph00sYt"
      },
      "execution_count": null,
      "outputs": []
    },
    {
      "cell_type": "markdown",
      "source": [
        "## Test_004"
      ],
      "metadata": {
        "id": "kpx0hyhu0wTu"
      }
    },
    {
      "cell_type": "code",
      "source": [
        "package may19;\n",
        "\n",
        "import org.testng.Assert;\n",
        "import org.testng.annotations.Parameters;\n",
        "import org.testng.annotations.Test;\n",
        "\n",
        "public class Test_004 {\n",
        "    @Test\n",
        "    @Parameters({\"Name\",\"Pwd\"})\n",
        "    public static void GoogleLogin(String Name, String Pwd){\n",
        "        System.out.println(\"Enter Name :\"+Name);\n",
        "        System.out.println(\"Enter Password :\"+Pwd);\n",
        "    }\n",
        "\n",
        "    @Test\n",
        "    @Parameters({\"StatusCode\"})\n",
        "    public void Validate_Get_Call(String StatusCode){\n",
        "        String RunTime_Status_Code = \"200\";\n",
        "        Assert.assertEquals(RunTime_Status_Code,StatusCode);\n",
        "        Assert.assertTrue(RunTime_Status_Code.equals(StatusCode));\n",
        "        Assert.assertTrue(Integer.parseInt(RunTime_Status_Code)==Integer.parseInt(StatusCode));\n",
        "    }\n",
        "\n",
        "    @Test\n",
        "    public void Facebook_Testing(){\n",
        "        System.out.println(\"We are doing Facebook Testing\");\n",
        "    }\n",
        "}\n"
      ],
      "metadata": {
        "id": "GK6c4qAP0z1u"
      },
      "execution_count": null,
      "outputs": []
    },
    {
      "cell_type": "markdown",
      "source": [
        "## Test_005"
      ],
      "metadata": {
        "id": "8G_mrr-y04X3"
      }
    },
    {
      "cell_type": "code",
      "source": [
        "package may19;\n",
        "import org.testng.annotations.BeforeClass;\n",
        "import org.testng.annotations.BeforeSuite;\n",
        "import reusables.Reusables;\n",
        "\n",
        "import org.testng.annotations.Test;\n",
        "\n",
        "public class Test_005 {\n",
        "    private Reusables re_obj;\n",
        "\n",
        "    @BeforeClass\n",
        "    public void do_initial_steps(){\n",
        "        re_obj = new Reusables();\n",
        "\n",
        "    }\n",
        "\n",
        "    @Test(groups = {\"End2End\",\"SmokeTest\",\"P1\"})\n",
        "        public void TestAPI_001(){\n",
        "        System.out.println(\"Executing Test API 001\");\n",
        "        System.out.println(\"URL is  \" +re_obj.read_PropertiesFile(\"url\"));\n",
        "    }\n",
        "\n",
        "    @Test(groups = {\"Regression\"})\n",
        "    public void TestAPI_002(){\n",
        "        System.out.println(\"Executing Test API 002\");\n",
        "    }\n",
        "\n",
        "    @Test(groups = {\"SmokeTest\"})\n",
        "    public void TestAPI_003(){\n",
        "        System.out.println(\"Executing Test API 003\");\n",
        "        System.out.println(\"The email is  \" +re_obj.read_PropertiesFile(\"email\"));\n",
        "    }\n",
        "\n",
        "    @Test(groups = {\"End2End\"})\n",
        "    public void TestAPI_004(){\n",
        "        System.out.println(\"Executing Test API 004\");\n",
        "    }\n",
        "\n",
        "    @Test(groups = {\"Regression\"})\n",
        "    public void TestAPI_005(){\n",
        "        System.out.println(\"Executing Test API 005\");\n",
        "    }\n",
        "\n",
        "    @Test(groups = {\"SmokeTest\"})\n",
        "    public void TestAPI_006(){\n",
        "        System.out.println(\"Executing Test API 006\");\n",
        "    }\n",
        "\n",
        "    @Test(groups = {\"End2End\"})\n",
        "    public void TestAPI_007(){\n",
        "        System.out.println(\"Executing Test API 007\");\n",
        "    }\n",
        "\n",
        "    @Test(groups = {\"Regression\"})\n",
        "    public void TestAPI_008(){\n",
        "        System.out.println(\"Executing Test API 008\");\n",
        "    }\n",
        "\n",
        "    @Test(groups = {\"SmokeTest\"})\n",
        "    public void TestAPI_009(){\n",
        "        System.out.println(\"Executing Test API 009\");\n",
        "    }\n",
        "\n",
        "    @Test(groups = {\"End2End\"},priority = 1)\n",
        "    public void TestAPI_010(){\n",
        "        System.out.println(\"Executing Test API 010\");\n",
        "    }\n",
        "}\n"
      ],
      "metadata": {
        "id": "xA_-oB8j06a-"
      },
      "execution_count": null,
      "outputs": []
    }
  ]
}